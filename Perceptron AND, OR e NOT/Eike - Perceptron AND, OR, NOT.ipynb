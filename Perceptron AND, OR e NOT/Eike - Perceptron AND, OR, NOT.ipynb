{
 "cells": [
  {
   "cell_type": "code",
   "execution_count": 39,
   "metadata": {},
   "outputs": [],
   "source": [
    "import numpy as np"
   ]
  },
  {
   "cell_type": "code",
   "execution_count": 45,
   "metadata": {},
   "outputs": [],
   "source": [
    "#Perceptron AND\n",
    "class PerceptronAND:\n",
    "    def __init__ (self):\n",
    "        #Assumindo os pesos\n",
    "        self.weights = np.array([0.5,0.5])\n",
    "        #Assumindo o threshold\n",
    "        self.theta = 1\n",
    "        print(\">> perceptron criado\")\n",
    "    def setInputs(self,inputs):\n",
    "        self.inputs = inputs\n",
    "    #Soma da entrada com os pesos\n",
    "    def summation(self):\n",
    "        self.sum = np.dot(self.inputs, self.weights)\n",
    "        print(\">> A soma é: \",self.sum)\n",
    "    #Função de ativação\n",
    "    def activation(self):\n",
    "        if self.sum >= self.theta:\n",
    "            return 1\n",
    "        else:\n",
    "            return 0"
   ]
  },
  {
   "cell_type": "code",
   "execution_count": 46,
   "metadata": {},
   "outputs": [],
   "source": [
    "#Perceptron OR\n",
    "class PerceptronOR:\n",
    "    def __init__ (self):\n",
    "        #Assumindo os pesos\n",
    "        self.weights = np.array([1.1,1.1])\n",
    "        #Assumindo o threshold\n",
    "        self.theta = 1.0\n",
    "        print(\">> perceptron criado\")\n",
    "    def setInputs(self,inputs):\n",
    "        self.inputs = inputs\n",
    "    #Soma da entrada com os pesos\n",
    "    def summation(self):\n",
    "        self.sum = np.dot(self.inputs, self.weights)\n",
    "        print(\">> A soma é: \",self.sum)\n",
    "    #Função de ativação\n",
    "    def activation(self):\n",
    "        if self.sum >= self.theta:\n",
    "            return 1\n",
    "        else:\n",
    "            return 0"
   ]
  },
  {
   "cell_type": "code",
   "execution_count": 47,
   "metadata": {},
   "outputs": [],
   "source": [
    "#Perceptron NOT\n",
    "class PerceptronNOT:\n",
    "    def __init__ (self):\n",
    "        #Assumindo os pesos\n",
    "        self.weight = -1\n",
    "        #Assumindo o threshold\n",
    "        self.theta = -0.5\n",
    "        print(\">> perceptron criado\")\n",
    "    def setInputs(self, input):\n",
    "        self.input = input\n",
    "    #Soma da entrada com os pesos\n",
    "    def summation(self):\n",
    "        self.sum = self.input*self.weight\n",
    "    #Função de ativação\n",
    "    def activation(self):\n",
    "        if self.sum >= self.theta:\n",
    "            return 1\n",
    "        else:\n",
    "            return 0"
   ]
  },
  {
   "cell_type": "code",
   "execution_count": 48,
   "metadata": {},
   "outputs": [],
   "source": [
    "def main():\n",
    "    input1 = np.array([0,0])\n",
    "    input2 = np.array([0,1])\n",
    "    input3 = np.array([1,0])\n",
    "    input4 = np.array([1,1])\n",
    "    #Criando perceptron\n",
    "    print(\"Entradas perceptron AND\")\n",
    "    perceptron = PerceptronAND()\n",
    "    #Set das entradas\n",
    "    perceptron.setInputs(input1)\n",
    "    perceptron.summation()\n",
    "    print(\"Para {} o resultado é: {}\".format(\"0,0\",perceptron.activation()))\n",
    "    perceptron.setInputs(input2)\n",
    "    perceptron.summation()\n",
    "    print(\"Para {} o resultado é: {}\".format(\"0,1\",perceptron.activation()))\n",
    "    perceptron.setInputs(input3)\n",
    "    perceptron.summation()\n",
    "    print(\"Para {} o resultado é: {}\".format(\"1,0\",perceptron.activation()))\n",
    "    perceptron.setInputs(input4)\n",
    "    perceptron.summation()\n",
    "    print(\"Para {} o resultado é: {}\".format(\"1,1\",perceptron.activation()))\n",
    "    \n",
    "    \n",
    "    print(\"\\nEntradas perceptron OR\")\n",
    "    perceptron = PerceptronOR()\n",
    "    #Set das entradas\n",
    "    perceptron.setInputs(input1)\n",
    "    perceptron.summation()\n",
    "    print(\"Para {} o resultado é: {}\".format(\"0,0\",perceptron.activation()))\n",
    "    perceptron.setInputs(input2)\n",
    "    perceptron.summation()\n",
    "    print(\"Para {} o resultado é: {}\".format(\"0,1\",perceptron.activation()))\n",
    "    perceptron.setInputs(input3)\n",
    "    perceptron.summation()\n",
    "    print(\"Para {} o resultado é: {}\".format(\"1,0\",perceptron.activation()))\n",
    "    perceptron.setInputs(input4)\n",
    "    perceptron.summation()\n",
    "    print(\"Para {} o resultado é: {}\".format(\"1,1\",perceptron.activation()))\n",
    "    \n",
    "    print(\"\\nEntradas perceptron NOT\")\n",
    "    #Criando perceptron NOT\n",
    "    perceptron = PerceptronNOT()\n",
    "    #Set das entradas\n",
    "    perceptron.setInputs(input=0)\n",
    "    perceptron.summation()\n",
    "    print(\"Para {} o resultado é: {}\".format(\"0\",perceptron.activation()))\n",
    "    \n",
    "    perceptron.setInputs(input=1)\n",
    "    perceptron.summation()\n",
    "    print(\"Para {} o resultado é: {}\".format(\"1\",perceptron.activation()))\n",
    "    "
   ]
  },
  {
   "cell_type": "code",
   "execution_count": 49,
   "metadata": {},
   "outputs": [
    {
     "name": "stdout",
     "output_type": "stream",
     "text": [
      "Entradas perceptron AND\n",
      ">> perceptron criado\n",
      ">> A soma é:  0.0\n",
      "Para 0,0 o resultado é: 0\n",
      ">> A soma é:  0.5\n",
      "Para 0,1 o resultado é: 0\n",
      ">> A soma é:  0.5\n",
      "Para 1,0 o resultado é: 0\n",
      ">> A soma é:  1.0\n",
      "Para 1,1 o resultado é: 1\n",
      "\n",
      "Entradas perceptron OR\n",
      ">> perceptron criado\n",
      ">> A soma é:  0.0\n",
      "Para 0,0 o resultado é: 0\n",
      ">> A soma é:  1.1\n",
      "Para 0,1 o resultado é: 1\n",
      ">> A soma é:  1.1\n",
      "Para 1,0 o resultado é: 1\n",
      ">> A soma é:  2.2\n",
      "Para 1,1 o resultado é: 1\n",
      "\n",
      "Entradas perceptron NOT\n",
      ">> perceptron criado\n",
      "Para 0 o resultado é: 1\n",
      "Para 1 o resultado é: 0\n"
     ]
    }
   ],
   "source": [
    "main()"
   ]
  },
  {
   "cell_type": "markdown",
   "metadata": {},
   "source": []
  },
  {
   "cell_type": "code",
   "execution_count": null,
   "metadata": {},
   "outputs": [],
   "source": []
  }
 ],
 "metadata": {
  "kernelspec": {
   "display_name": "Python 3",
   "language": "python",
   "name": "python3"
  },
  "language_info": {
   "codemirror_mode": {
    "name": "ipython",
    "version": 3
   },
   "file_extension": ".py",
   "mimetype": "text/x-python",
   "name": "python",
   "nbconvert_exporter": "python",
   "pygments_lexer": "ipython3",
   "version": "3.7.6"
  }
 },
 "nbformat": 4,
 "nbformat_minor": 4
}
